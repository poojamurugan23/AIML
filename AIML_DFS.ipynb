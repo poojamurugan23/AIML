{
  "nbformat": 4,
  "nbformat_minor": 0,
  "metadata": {
    "colab": {
      "provenance": [],
      "authorship_tag": "ABX9TyN/V8GjZrupWoNGYRCatJtM",
      "include_colab_link": true
    },
    "kernelspec": {
      "name": "python3",
      "display_name": "Python 3"
    },
    "language_info": {
      "name": "python"
    }
  },
  "cells": [
    {
      "cell_type": "markdown",
      "metadata": {
        "id": "view-in-github",
        "colab_type": "text"
      },
      "source": [
        "<a href=\"https://colab.research.google.com/github/poojamurugan23/AIML/blob/main/AIML_DFS.ipynb\" target=\"_parent\"><img src=\"https://colab.research.google.com/assets/colab-badge.svg\" alt=\"Open In Colab\"/></a>"
      ]
    },
    {
      "cell_type": "code",
      "execution_count": 5,
      "metadata": {
        "colab": {
          "base_uri": "https://localhost:8080/"
        },
        "id": "E1HQvhuq2zQn",
        "outputId": "acfd32f0-f401-471b-f6ac-cec6f1897d5e"
      },
      "outputs": [
        {
          "output_type": "stream",
          "name": "stdout",
          "text": [
            "Following is the Depth First Search\n",
            "6 3 2 5 7 8 "
          ]
        }
      ],
      "source": [
        "graph={'5':['3','6'],\n",
        "       '6':['3','2'],\n",
        "       '2':['5','7'],\n",
        "       '7':['8'],\n",
        "       '8':[],\n",
        "       '3':[]\n",
        "}\n",
        "visited = set()\n",
        "def dfs (visited,graph,node):\n",
        "  if node not in visited:\n",
        "    print(node,end = \" \")\n",
        "    visited.add(node)\n",
        "    for neighbour in graph[node]:\n",
        "      dfs(visited,graph,neighbour)\n",
        "print(\"Following is the Depth First Search\")\n",
        "dfs(visited,graph,'6')"
      ]
    }
  ]
}