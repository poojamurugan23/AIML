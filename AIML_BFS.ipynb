{
  "nbformat": 4,
  "nbformat_minor": 0,
  "metadata": {
    "colab": {
      "provenance": [],
      "authorship_tag": "ABX9TyOEv3FsmAuRok9gEGfIGu2e",
      "include_colab_link": true
    },
    "kernelspec": {
      "name": "python3",
      "display_name": "Python 3"
    },
    "language_info": {
      "name": "python"
    }
  },
  "cells": [
    {
      "cell_type": "markdown",
      "metadata": {
        "id": "view-in-github",
        "colab_type": "text"
      },
      "source": [
        "<a href=\"https://colab.research.google.com/github/poojamurugan23/AIML/blob/main/AIML_BFS.ipynb\" target=\"_parent\"><img src=\"https://colab.research.google.com/assets/colab-badge.svg\" alt=\"Open In Colab\"/></a>"
      ]
    },
    {
      "cell_type": "code",
      "execution_count": 4,
      "metadata": {
        "colab": {
          "base_uri": "https://localhost:8080/"
        },
        "id": "mt1YXt2uwxiI",
        "outputId": "fc3b887c-6011-4263-dd80-bedb3fadb914"
      },
      "outputs": [
        {
          "output_type": "stream",
          "name": "stdout",
          "text": [
            "Following is the Breadth First Search\n",
            "6 3 2 5 7 8 "
          ]
        }
      ],
      "source": [
        "graph={'5':['3','6'],\n",
        "       '6':['3','2'],\n",
        "       '2':['5','7'],\n",
        "       '7':['8'],\n",
        "       '8':[],\n",
        "       '3':[]\n",
        "}\n",
        "visited = []\n",
        "queue = []\n",
        "def bfs(visited,graph,node):\n",
        "  visited.append(node)\n",
        "  queue.append(node)\n",
        "  while queue:\n",
        "    m=queue.pop(0)\n",
        "    print(m,end = \" \")\n",
        "    for neighbour in graph[m]:\n",
        "      if neighbour not in visited:\n",
        "        visited.append(neighbour)\n",
        "        queue.append(neighbour)\n",
        "print(\"Following is the Breadth First Search\")\n",
        "bfs(visited,graph,'6')\n",
        ""
      ]
    }
  ]
}